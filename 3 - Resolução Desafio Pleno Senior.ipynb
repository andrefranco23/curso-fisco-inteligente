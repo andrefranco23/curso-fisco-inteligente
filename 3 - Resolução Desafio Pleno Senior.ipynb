{
 "cells": [
  {
   "cell_type": "markdown",
   "metadata": {},
   "source": [
    "# Resolução Desafio Pleno Senior\n"
   ]
  },
  {
   "cell_type": "markdown",
   "metadata": {},
   "source": [
    "**DESAFIO: AVALIAÇÃO DE CLIENTES DE UM BANCO**\n",
    "\n",
    "O Cenário\n",
    "\n",
    "A avaliação do risco de inadimplência tem um papel importante para os bancos e outros órgãos por estar associada a possíveis perdas e gerar grande impacto nas atividades do mercado financeiro. Fazer uma avaliação certeira permite que empréstimos sejam concedidos a mais pessoas e minimiza a perda da instituição que concede o crédito contribuindo para uma movimentação na economia. \n",
    "\n",
    "O Problema\n",
    "\n",
    "Diante desse cenário precisamos analisar uma base de dados de tomadores de crédito de um banco brasileiro e avaliá-la com o propósito de sua posteriormente utilização para a construção e estimação de um modelo analítico de previsão de inadimplência. No caso, um modelo preditivo que prevê se o tomador será um bom pagador baseado em características de clientes passados contidas nesta base de dados.\n",
    "\n",
    "A Base\n",
    "\n",
    "Em anexo, encontra-se a base de dados em questão, bem como um arquivo contendo a descrição das variáveis. É um conjunto de dados grande e acredita-se que este possui diversas informações potencialmente úteis para o aprendizado do modelo em questão.\n"
   ]
  },
  {
   "cell_type": "markdown",
   "metadata": {},
   "source": [
    "A Tarefa\n",
    "\n",
    "Execute a sequência de atividades abaixo e exponha seus resultados em uma apresentação clara e objetiva, incluindo todo comentário que achar relevante.\n",
    "\n",
    "- 1)\tRealize uma análise detalhada das variáveis da base de dados, relações entre as variáveis, possíveis inconsistências e como elas poderiam ser tratados ou eliminados.\n",
    "- 2)\tTreine um modelo de classificação eficiente e robusto para a previsão de bons e maus pagadores. Para isso você deve realizar um experimento utilizando pelo menos dois modelos. Cada um dos modelos deve ter seus parâmetros ajustados com objetivo de maximizar sua capacidade de generalização, além de garantir eficiência e robustez.\n",
    "- 3)\tUtilize todas as métricas que achar necessário para análise dos resultados. \n",
    "- 4)\tCrie uma apresentação com sua abordagem para resolver o problema e apresentar seus resultados.\n",
    "- 5)\tInclua qualquer outra informação/análise que achar importante.\n"
   ]
  },
  {
   "cell_type": "markdown",
   "metadata": {},
   "source": [
    "Modelagem DS Pleno\n",
    "\n",
    "O candidato pode usar técnicas como:\n",
    "\n",
    "- Regressão Logística, Análise Discriminante\n",
    "\n",
    "- Árvore de Decisão, Support Vector Machine, Naive Bayes\n",
    "\n",
    "- Métodos Ensemble como: Random Forest, Bagging, Boosting, Adaboost\n",
    "\n",
    "E comparar os resultados das 2 modelagens escolhidas.\n",
    "\n",
    "Para comparar os resultados pode ser feita uma matriz de confusão e os calculos de acurácia, precisão (especificidade e especificidade),  recall e/ou  f1-score."
   ]
  },
  {
   "cell_type": "markdown",
   "metadata": {},
   "source": [
    "#### Importando bibliotecas"
   ]
  },
  {
   "cell_type": "code",
   "execution_count": 70,
   "metadata": {},
   "outputs": [
    {
     "name": "stdout",
     "output_type": "stream",
     "text": [
      "The autoreload extension is already loaded. To reload it, use:\n",
      "  %reload_ext autoreload\n"
     ]
    }
   ],
   "source": [
    "%load_ext autoreload\n",
    "\n",
    "%autoreload 2\n",
    "\n",
    "import pandas as pd\n",
    "import numpy as np\n",
    "\n",
    "import re # regular expressions\n",
    "import pandas_profiling # kinda like R DataExplorer\n",
    "\n",
    "from collections import defaultdict\n",
    "\n",
    "import qgrid\n",
    "\n",
    "# libraries for visualization\n",
    "import matplotlib.pyplot as plt\n",
    "import plotly.express as px\n",
    "import plotly.graph_objects as go\n",
    "from plotly.subplots import make_subplots\n",
    "import seaborn as sns \n",
    "\n",
    "# file with path variables \n",
    "from config import *\n",
    "\n",
    "# file with custom function\n",
    "#from custom_functions import CustomFunctions\n",
    "\n",
    "# adjusting pandas setting for complete visualization of data\n",
    "pd.options.display.max_columns = 999\n",
    "pd.options.display.max_rows = 999\n",
    "\n",
    "\n",
    "from sklearn.utils.multiclass import unique_labels\n",
    "from sklearn import preprocessing\n",
    "from sklearn.ensemble import RandomForestClassifier\n",
    "from sklearn.model_selection import train_test_split\n",
    "from sklearn import metrics\n",
    "from sklearn.metrics import confusion_matrix, classification_report\n",
    "from sklearn.metrics import mean_squared_error\n",
    "from sklearn.metrics import r2_score\n",
    "from sklearn.linear_model import LogisticRegression\n",
    "from sklearn import svm\n",
    "from sklearn.svm import SVC\n",
    "\n",
    "from sklearn.tree import DecisionTreeClassifier # Import Decision Tree Classifier\n",
    "from sklearn.tree import export_graphviz\n",
    "from sklearn.externals.six import StringIO  \n",
    "from IPython.display import Image  \n",
    "import pydotplus\n"
   ]
  },
  {
   "cell_type": "code",
   "execution_count": 2,
   "metadata": {},
   "outputs": [],
   "source": [
    "# Função para criar a matriz de confusão, com o PAGO = 1, no quadrante superior esquerdo\n",
    "\n",
    "def get_confusion_matrix(reais, preditos, labels):\n",
    "    \"\"\"\n",
    "    Uma função que retorna a matriz de confusão para uma classificação binária\n",
    "    \n",
    "    Args:\n",
    "        reais (list): lista de valores reais\n",
    "        preditos (list): lista de valores preditos pelo modelos\n",
    "        labels (list): lista de labels a serem avaliados.\n",
    "            É importante que ela esteja presente, pois usaremos ela para entender\n",
    "            quem é a classe positiva e quem é a classe negativa\n",
    "    \n",
    "    Returns:\n",
    "        Um numpy.array, no formato:\n",
    "            numpy.array([\n",
    "                [ tp, fp ],\n",
    "                [ fn, tn ]\n",
    "            ])\n",
    "    \"\"\"\n",
    "    # não implementado\n",
    "    if len(labels) > 2:\n",
    "        return None\n",
    "\n",
    "    if len(reais) != len(preditos):\n",
    "        return None\n",
    "    \n",
    "    # considerando a primeira classe como a positiva, e a segunda a negativa\n",
    "    true_class = labels[0]\n",
    "    negative_class = labels[1]\n",
    "\n",
    "    # valores preditos corretamente\n",
    "    tp = 0\n",
    "    tn = 0\n",
    "    \n",
    "    # valores preditos incorretamente\n",
    "    fp = 0\n",
    "    fn = 0\n",
    "    \n",
    "    for (indice, v_real) in enumerate(reais):\n",
    "        v_predito = preditos[indice]\n",
    "\n",
    "        # se trata de um valor real da classe positiva\n",
    "        if v_real == true_class:\n",
    "            tp += 1 if v_predito == v_real else 0\n",
    "            fp += 1 if v_predito != v_real else 0\n",
    "        else:\n",
    "            tn += 1 if v_predito == v_real else 0\n",
    "            fn += 1 if v_predito != v_real else 0\n",
    "    \n",
    "    return np.array([\n",
    "        # valores da classe positiva\n",
    "        [ tp, fp ],\n",
    "        # valores da classe negativa\n",
    "        [ fn, tn ]\n",
    "    ])\n"
   ]
  },
  {
   "cell_type": "code",
   "execution_count": 35,
   "metadata": {},
   "outputs": [],
   "source": [
    "def plot_confusion_matrix(y_true, y_pred, classes,\n",
    "                         normalize=False,\n",
    "                         title=None,\n",
    "                         cmap=plt.cm.Blues):\n",
    "   \"\"\"\n",
    "   This function prints and plots the confusion matrix.\n",
    "   Normalization can be applied by setting normalize=True.\n",
    "   \"\"\"\n",
    "   if not title:\n",
    "       if normalize:\n",
    "           title = 'Normalized confusion matrix'\n",
    "       else:\n",
    "           title = 'Confusion matrix, without normalization'\n",
    "   # Compute confusion matrix\n",
    "   cm = confusion_matrix(y_true, y_pred)\n",
    "   # Only use the labels that appear in the data\n",
    "   classes = classes[unique_labels(y_true, y_pred)]\n",
    "   if normalize:\n",
    "       cm = cm.astype('float') / cm.sum(axis=1)[:, np.newaxis]\n",
    "       print(\"Normalized confusion matrix\")\n",
    "   else:\n",
    "       print('Confusion matrix, without normalization')\n",
    "   print(cm)\n",
    "   fig, ax = plt.subplots()\n",
    "   im = ax.imshow(cm, interpolation='nearest', cmap=cmap)\n",
    "   ax.figure.colorbar(im, ax=ax)\n",
    "   # We want to show all ticks...\n",
    "   ax.set(xticks=np.arange(cm.shape[1]),\n",
    "          yticks=np.arange(cm.shape[0]),\n",
    "          # ... and label them with the respective list entries\n",
    "          xticklabels=classes, yticklabels=classes,\n",
    "          title=title,\n",
    "          ylabel='True label',\n",
    "          xlabel='Predicted label')\n",
    "   # Rotate the tick labels and set their alignment.\n",
    "   plt.setp(ax.get_xticklabels(), rotation=45, ha=\"right\",\n",
    "            rotation_mode=\"anchor\")\n",
    "   # Loop over data dimensions and create text annotations.\n",
    "   fmt = '.2f' if normalize else 'd'\n",
    "   thresh = cm.max() / 2.\n",
    "   for i in range(cm.shape[0]):\n",
    "       for j in range(cm.shape[1]):\n",
    "           ax.text(j, i, format(cm[i, j], fmt),\n",
    "                   ha=\"center\", va=\"center\",\n",
    "                   color=\"white\" if cm[i, j] > thresh else \"black\")\n",
    "   fig.tight_layout()\n",
    "   return ax"
   ]
  },
  {
   "cell_type": "markdown",
   "metadata": {},
   "source": [
    "#### Lendo bases"
   ]
  },
  {
   "cell_type": "code",
   "execution_count": 4,
   "metadata": {
    "scrolled": true
   },
   "outputs": [
    {
     "data": {
      "text/plain": [
       "(50390, 23)"
      ]
     },
     "execution_count": 4,
     "metadata": {},
     "output_type": "execute_result"
    }
   ],
   "source": [
    "df = pd.read_csv('C:/Users/Elogroup/Documents/Projetos/Processo seletivo/Dados/df_emprestimos_banco.csv', encoding=\"UTF-8\")\n",
    "df.shape"
   ]
  },
  {
   "cell_type": "markdown",
   "metadata": {},
   "source": [
    "## Verificando a Base de Dados"
   ]
  },
  {
   "cell_type": "code",
   "execution_count": 5,
   "metadata": {
    "scrolled": false
   },
   "outputs": [
    {
     "data": {
      "text/html": [
       "<div>\n",
       "<style scoped>\n",
       "    .dataframe tbody tr th:only-of-type {\n",
       "        vertical-align: middle;\n",
       "    }\n",
       "\n",
       "    .dataframe tbody tr th {\n",
       "        vertical-align: top;\n",
       "    }\n",
       "\n",
       "    .dataframe thead th {\n",
       "        text-align: right;\n",
       "    }\n",
       "</style>\n",
       "<table border=\"1\" class=\"dataframe\">\n",
       "  <thead>\n",
       "    <tr style=\"text-align: right;\">\n",
       "      <th></th>\n",
       "      <th>Escolaridade</th>\n",
       "      <th>Renda Mensal Informal</th>\n",
       "      <th>Dependentes</th>\n",
       "      <th>Estado Civil</th>\n",
       "      <th>Idade</th>\n",
       "      <th>Conta Poupanca</th>\n",
       "      <th>Conta Salario</th>\n",
       "      <th>Quant Adiantamento Deposito</th>\n",
       "      <th>Qtd Fonte Renda</th>\n",
       "      <th>Cheque Sem Fundo</th>\n",
       "      <th>Conta Conjunta</th>\n",
       "      <th>Valor Conta Corrente</th>\n",
       "      <th>Valor Conta Poupanca</th>\n",
       "      <th>Valor Emprestimo</th>\n",
       "      <th>Multa</th>\n",
       "      <th>Juros</th>\n",
       "      <th>Valor Emprestimo Atualizado</th>\n",
       "      <th>PAGO</th>\n",
       "      <th>Controle</th>\n",
       "      <th>ID</th>\n",
       "      <th>Genero</th>\n",
       "      <th>Data</th>\n",
       "      <th>Estado</th>\n",
       "    </tr>\n",
       "  </thead>\n",
       "  <tbody>\n",
       "    <tr>\n",
       "      <th>0</th>\n",
       "      <td>NaN</td>\n",
       "      <td>NaN</td>\n",
       "      <td>S</td>\n",
       "      <td>2</td>\n",
       "      <td>36</td>\n",
       "      <td>S</td>\n",
       "      <td>N</td>\n",
       "      <td>NaN</td>\n",
       "      <td>NaN</td>\n",
       "      <td>N</td>\n",
       "      <td>N</td>\n",
       "      <td>NaN</td>\n",
       "      <td>NaN</td>\n",
       "      <td>8174.32</td>\n",
       "      <td>263.25</td>\n",
       "      <td>5844.98</td>\n",
       "      <td>14282.55</td>\n",
       "      <td>1</td>\n",
       "      <td>1</td>\n",
       "      <td>1328587.0</td>\n",
       "      <td>1</td>\n",
       "      <td>2020-01-01</td>\n",
       "      <td>57</td>\n",
       "    </tr>\n",
       "    <tr>\n",
       "      <th>1</th>\n",
       "      <td>1.0</td>\n",
       "      <td>1894.5078</td>\n",
       "      <td>N</td>\n",
       "      <td>2</td>\n",
       "      <td>39</td>\n",
       "      <td>S</td>\n",
       "      <td>N</td>\n",
       "      <td>2.0</td>\n",
       "      <td>1.0</td>\n",
       "      <td>S</td>\n",
       "      <td>N</td>\n",
       "      <td>NaN</td>\n",
       "      <td>NaN</td>\n",
       "      <td>41775.63</td>\n",
       "      <td>1607.29</td>\n",
       "      <td>7652.26</td>\n",
       "      <td>51035.18</td>\n",
       "      <td>1</td>\n",
       "      <td>1</td>\n",
       "      <td>1424254.0</td>\n",
       "      <td>1</td>\n",
       "      <td>2020-01-01</td>\n",
       "      <td>59</td>\n",
       "    </tr>\n",
       "    <tr>\n",
       "      <th>2</th>\n",
       "      <td>1.0</td>\n",
       "      <td>NaN</td>\n",
       "      <td>S</td>\n",
       "      <td>2</td>\n",
       "      <td>26</td>\n",
       "      <td>S</td>\n",
       "      <td>N</td>\n",
       "      <td>NaN</td>\n",
       "      <td>1.0</td>\n",
       "      <td>S</td>\n",
       "      <td>N</td>\n",
       "      <td>NaN</td>\n",
       "      <td>NaN</td>\n",
       "      <td>522940.27</td>\n",
       "      <td>24860.40</td>\n",
       "      <td>319315.62</td>\n",
       "      <td>867116.29</td>\n",
       "      <td>1</td>\n",
       "      <td>1</td>\n",
       "      <td>1438519.0</td>\n",
       "      <td>0</td>\n",
       "      <td>2020-01-01</td>\n",
       "      <td>56</td>\n",
       "    </tr>\n",
       "    <tr>\n",
       "      <th>3</th>\n",
       "      <td>NaN</td>\n",
       "      <td>NaN</td>\n",
       "      <td>N</td>\n",
       "      <td>8</td>\n",
       "      <td>23</td>\n",
       "      <td>N</td>\n",
       "      <td>N</td>\n",
       "      <td>NaN</td>\n",
       "      <td>NaN</td>\n",
       "      <td>N</td>\n",
       "      <td>N</td>\n",
       "      <td>NaN</td>\n",
       "      <td>NaN</td>\n",
       "      <td>1593.00</td>\n",
       "      <td>21472.36</td>\n",
       "      <td>2967.48</td>\n",
       "      <td>26032.84</td>\n",
       "      <td>1</td>\n",
       "      <td>1</td>\n",
       "      <td>1426138.0</td>\n",
       "      <td>1</td>\n",
       "      <td>2020-01-01</td>\n",
       "      <td>56</td>\n",
       "    </tr>\n",
       "    <tr>\n",
       "      <th>4</th>\n",
       "      <td>NaN</td>\n",
       "      <td>NaN</td>\n",
       "      <td>S</td>\n",
       "      <td>2</td>\n",
       "      <td>33</td>\n",
       "      <td>S</td>\n",
       "      <td>N</td>\n",
       "      <td>NaN</td>\n",
       "      <td>NaN</td>\n",
       "      <td>N</td>\n",
       "      <td>N</td>\n",
       "      <td>NaN</td>\n",
       "      <td>NaN</td>\n",
       "      <td>2078.97</td>\n",
       "      <td>19.44</td>\n",
       "      <td>46.35</td>\n",
       "      <td>2144.76</td>\n",
       "      <td>1</td>\n",
       "      <td>1</td>\n",
       "      <td>1474504.0</td>\n",
       "      <td>0</td>\n",
       "      <td>2020-01-01</td>\n",
       "      <td>59</td>\n",
       "    </tr>\n",
       "  </tbody>\n",
       "</table>\n",
       "</div>"
      ],
      "text/plain": [
       "   Escolaridade  Renda Mensal Informal Dependentes  Estado Civil  Idade  \\\n",
       "0           NaN                    NaN           S             2     36   \n",
       "1           1.0              1894.5078           N             2     39   \n",
       "2           1.0                    NaN           S             2     26   \n",
       "3           NaN                    NaN           N             8     23   \n",
       "4           NaN                    NaN           S             2     33   \n",
       "\n",
       "  Conta Poupanca Conta Salario  Quant Adiantamento Deposito  Qtd Fonte Renda  \\\n",
       "0              S             N                          NaN              NaN   \n",
       "1              S             N                          2.0              1.0   \n",
       "2              S             N                          NaN              1.0   \n",
       "3              N             N                          NaN              NaN   \n",
       "4              S             N                          NaN              NaN   \n",
       "\n",
       "  Cheque Sem Fundo Conta Conjunta  Valor Conta Corrente  Valor Conta Poupanca  \\\n",
       "0                N              N                   NaN                   NaN   \n",
       "1                S              N                   NaN                   NaN   \n",
       "2                S              N                   NaN                   NaN   \n",
       "3                N              N                   NaN                   NaN   \n",
       "4                N              N                   NaN                   NaN   \n",
       "\n",
       "   Valor Emprestimo     Multa      Juros  Valor Emprestimo Atualizado  PAGO  \\\n",
       "0           8174.32    263.25    5844.98                     14282.55     1   \n",
       "1          41775.63   1607.29    7652.26                     51035.18     1   \n",
       "2         522940.27  24860.40  319315.62                    867116.29     1   \n",
       "3           1593.00  21472.36    2967.48                     26032.84     1   \n",
       "4           2078.97     19.44      46.35                      2144.76     1   \n",
       "\n",
       "   Controle         ID  Genero        Data  Estado  \n",
       "0         1  1328587.0       1  2020-01-01      57  \n",
       "1         1  1424254.0       1  2020-01-01      59  \n",
       "2         1  1438519.0       0  2020-01-01      56  \n",
       "3         1  1426138.0       1  2020-01-01      56  \n",
       "4         1  1474504.0       0  2020-01-01      59  "
      ]
     },
     "execution_count": 5,
     "metadata": {},
     "output_type": "execute_result"
    }
   ],
   "source": [
    "df.head()"
   ]
  },
  {
   "cell_type": "code",
   "execution_count": 6,
   "metadata": {
    "scrolled": false
   },
   "outputs": [
    {
     "data": {
      "text/html": [
       "<div>\n",
       "<style scoped>\n",
       "    .dataframe tbody tr th:only-of-type {\n",
       "        vertical-align: middle;\n",
       "    }\n",
       "\n",
       "    .dataframe tbody tr th {\n",
       "        vertical-align: top;\n",
       "    }\n",
       "\n",
       "    .dataframe thead th {\n",
       "        text-align: right;\n",
       "    }\n",
       "</style>\n",
       "<table border=\"1\" class=\"dataframe\">\n",
       "  <thead>\n",
       "    <tr style=\"text-align: right;\">\n",
       "      <th></th>\n",
       "      <th>Escolaridade</th>\n",
       "      <th>Renda Mensal Informal</th>\n",
       "      <th>Dependentes</th>\n",
       "      <th>Estado Civil</th>\n",
       "      <th>Idade</th>\n",
       "      <th>Conta Poupanca</th>\n",
       "      <th>Conta Salario</th>\n",
       "      <th>Quant Adiantamento Deposito</th>\n",
       "      <th>Qtd Fonte Renda</th>\n",
       "      <th>Cheque Sem Fundo</th>\n",
       "      <th>Conta Conjunta</th>\n",
       "      <th>Valor Conta Corrente</th>\n",
       "      <th>Valor Conta Poupanca</th>\n",
       "      <th>Valor Emprestimo</th>\n",
       "      <th>Multa</th>\n",
       "      <th>Juros</th>\n",
       "      <th>Valor Emprestimo Atualizado</th>\n",
       "      <th>PAGO</th>\n",
       "      <th>Controle</th>\n",
       "      <th>ID</th>\n",
       "      <th>Genero</th>\n",
       "      <th>Data</th>\n",
       "      <th>Estado</th>\n",
       "    </tr>\n",
       "  </thead>\n",
       "  <tbody>\n",
       "    <tr>\n",
       "      <th>50385</th>\n",
       "      <td>NaN</td>\n",
       "      <td>NaN</td>\n",
       "      <td>N</td>\n",
       "      <td>4</td>\n",
       "      <td>26</td>\n",
       "      <td>S</td>\n",
       "      <td>N</td>\n",
       "      <td>2.0</td>\n",
       "      <td>NaN</td>\n",
       "      <td>N</td>\n",
       "      <td>N</td>\n",
       "      <td>NaN</td>\n",
       "      <td>NaN</td>\n",
       "      <td>1593.0</td>\n",
       "      <td>36020.75</td>\n",
       "      <td>14170.56</td>\n",
       "      <td>51784.31</td>\n",
       "      <td>0</td>\n",
       "      <td>1</td>\n",
       "      <td>1.686687e+10</td>\n",
       "      <td>0</td>\n",
       "      <td>2020-01-01</td>\n",
       "      <td>57</td>\n",
       "    </tr>\n",
       "    <tr>\n",
       "      <th>50386</th>\n",
       "      <td>NaN</td>\n",
       "      <td>NaN</td>\n",
       "      <td>N</td>\n",
       "      <td>4</td>\n",
       "      <td>26</td>\n",
       "      <td>S</td>\n",
       "      <td>N</td>\n",
       "      <td>2.0</td>\n",
       "      <td>NaN</td>\n",
       "      <td>N</td>\n",
       "      <td>N</td>\n",
       "      <td>NaN</td>\n",
       "      <td>NaN</td>\n",
       "      <td>1593.0</td>\n",
       "      <td>1214.50</td>\n",
       "      <td>154.24</td>\n",
       "      <td>2961.74</td>\n",
       "      <td>0</td>\n",
       "      <td>1</td>\n",
       "      <td>1.695679e+10</td>\n",
       "      <td>0</td>\n",
       "      <td>2020-01-01</td>\n",
       "      <td>57</td>\n",
       "    </tr>\n",
       "    <tr>\n",
       "      <th>50387</th>\n",
       "      <td>NaN</td>\n",
       "      <td>NaN</td>\n",
       "      <td>S</td>\n",
       "      <td>2</td>\n",
       "      <td>26</td>\n",
       "      <td>S</td>\n",
       "      <td>N</td>\n",
       "      <td>NaN</td>\n",
       "      <td>NaN</td>\n",
       "      <td>S</td>\n",
       "      <td>N</td>\n",
       "      <td>NaN</td>\n",
       "      <td>NaN</td>\n",
       "      <td>1593.0</td>\n",
       "      <td>194.32</td>\n",
       "      <td>26.86</td>\n",
       "      <td>1814.18</td>\n",
       "      <td>0</td>\n",
       "      <td>1</td>\n",
       "      <td>1.448218e+06</td>\n",
       "      <td>0</td>\n",
       "      <td>2020-01-01</td>\n",
       "      <td>57</td>\n",
       "    </tr>\n",
       "    <tr>\n",
       "      <th>50388</th>\n",
       "      <td>1.0</td>\n",
       "      <td>1149.8448</td>\n",
       "      <td>N</td>\n",
       "      <td>2</td>\n",
       "      <td>26</td>\n",
       "      <td>S</td>\n",
       "      <td>N</td>\n",
       "      <td>2.0</td>\n",
       "      <td>2.0</td>\n",
       "      <td>N</td>\n",
       "      <td>N</td>\n",
       "      <td>NaN</td>\n",
       "      <td>NaN</td>\n",
       "      <td>1593.0</td>\n",
       "      <td>1038.40</td>\n",
       "      <td>30.53</td>\n",
       "      <td>2661.93</td>\n",
       "      <td>0</td>\n",
       "      <td>1</td>\n",
       "      <td>1.510609e+06</td>\n",
       "      <td>0</td>\n",
       "      <td>2020-01-01</td>\n",
       "      <td>56</td>\n",
       "    </tr>\n",
       "    <tr>\n",
       "      <th>50389</th>\n",
       "      <td>1.0</td>\n",
       "      <td>1149.8448</td>\n",
       "      <td>N</td>\n",
       "      <td>2</td>\n",
       "      <td>26</td>\n",
       "      <td>S</td>\n",
       "      <td>N</td>\n",
       "      <td>2.0</td>\n",
       "      <td>2.0</td>\n",
       "      <td>N</td>\n",
       "      <td>N</td>\n",
       "      <td>NaN</td>\n",
       "      <td>NaN</td>\n",
       "      <td>1593.0</td>\n",
       "      <td>467.28</td>\n",
       "      <td>13.74</td>\n",
       "      <td>2074.02</td>\n",
       "      <td>0</td>\n",
       "      <td>1</td>\n",
       "      <td>1.510612e+06</td>\n",
       "      <td>0</td>\n",
       "      <td>2020-01-01</td>\n",
       "      <td>59</td>\n",
       "    </tr>\n",
       "  </tbody>\n",
       "</table>\n",
       "</div>"
      ],
      "text/plain": [
       "       Escolaridade  Renda Mensal Informal Dependentes  Estado Civil  Idade  \\\n",
       "50385           NaN                    NaN           N             4     26   \n",
       "50386           NaN                    NaN           N             4     26   \n",
       "50387           NaN                    NaN           S             2     26   \n",
       "50388           1.0              1149.8448           N             2     26   \n",
       "50389           1.0              1149.8448           N             2     26   \n",
       "\n",
       "      Conta Poupanca Conta Salario  Quant Adiantamento Deposito  \\\n",
       "50385              S             N                          2.0   \n",
       "50386              S             N                          2.0   \n",
       "50387              S             N                          NaN   \n",
       "50388              S             N                          2.0   \n",
       "50389              S             N                          2.0   \n",
       "\n",
       "       Qtd Fonte Renda Cheque Sem Fundo Conta Conjunta  Valor Conta Corrente  \\\n",
       "50385              NaN                N              N                   NaN   \n",
       "50386              NaN                N              N                   NaN   \n",
       "50387              NaN                S              N                   NaN   \n",
       "50388              2.0                N              N                   NaN   \n",
       "50389              2.0                N              N                   NaN   \n",
       "\n",
       "       Valor Conta Poupanca  Valor Emprestimo     Multa     Juros  \\\n",
       "50385                   NaN            1593.0  36020.75  14170.56   \n",
       "50386                   NaN            1593.0   1214.50    154.24   \n",
       "50387                   NaN            1593.0    194.32     26.86   \n",
       "50388                   NaN            1593.0   1038.40     30.53   \n",
       "50389                   NaN            1593.0    467.28     13.74   \n",
       "\n",
       "       Valor Emprestimo Atualizado  PAGO  Controle            ID  Genero  \\\n",
       "50385                     51784.31     0         1  1.686687e+10       0   \n",
       "50386                      2961.74     0         1  1.695679e+10       0   \n",
       "50387                      1814.18     0         1  1.448218e+06       0   \n",
       "50388                      2661.93     0         1  1.510609e+06       0   \n",
       "50389                      2074.02     0         1  1.510612e+06       0   \n",
       "\n",
       "             Data  Estado  \n",
       "50385  2020-01-01      57  \n",
       "50386  2020-01-01      57  \n",
       "50387  2020-01-01      57  \n",
       "50388  2020-01-01      56  \n",
       "50389  2020-01-01      59  "
      ]
     },
     "execution_count": 6,
     "metadata": {},
     "output_type": "execute_result"
    }
   ],
   "source": [
    "df.tail()"
   ]
  },
  {
   "cell_type": "markdown",
   "metadata": {},
   "source": [
    "- Quantidade de observações nulas em cada variável"
   ]
  },
  {
   "cell_type": "code",
   "execution_count": 7,
   "metadata": {
    "scrolled": false
   },
   "outputs": [
    {
     "data": {
      "text/plain": [
       "Escolaridade                   35775\n",
       "Renda Mensal Informal          40622\n",
       "Dependentes                        0\n",
       "Estado Civil                       0\n",
       "Idade                              0\n",
       "Conta Poupanca                     0\n",
       "Conta Salario                      0\n",
       "Quant Adiantamento Deposito    28547\n",
       "Qtd Fonte Renda                37584\n",
       "Cheque Sem Fundo                   0\n",
       "Conta Conjunta                     0\n",
       "Valor Conta Corrente           50390\n",
       "Valor Conta Poupanca           50390\n",
       "Valor Emprestimo                   0\n",
       "Multa                              0\n",
       "Juros                              0\n",
       "Valor Emprestimo Atualizado        0\n",
       "PAGO                               0\n",
       "Controle                           0\n",
       "ID                                 0\n",
       "Genero                             0\n",
       "Data                               0\n",
       "Estado                             0\n",
       "dtype: int64"
      ]
     },
     "execution_count": 7,
     "metadata": {},
     "output_type": "execute_result"
    }
   ],
   "source": [
    "# Na em cada coluna\n",
    "df.isnull().sum()"
   ]
  },
  {
   "cell_type": "markdown",
   "metadata": {},
   "source": [
    "# 1)\tRealize uma análise detalhada das variáveis da base de dados, relações entre as variáveis, possíveis inconsistências e como elas poderiam ser tratados ou eliminados."
   ]
  },
  {
   "cell_type": "markdown",
   "metadata": {},
   "source": [
    "**Inconsistências na base para verficar se o candidato identificou:**\n",
    "\n",
    "- Existe uma observação com \"Estado Civil\" = 5, código que não consta na descrição das variáveis. \n",
    "- Existem IDs duplicados, apresentando informações divergentes.\n",
    "- Duas variáveis só com missing: 'Valor Conta Corrente\tValor' e 'Conta Poupanca'\n",
    "- 'Escolaridade', 'Renda Mensal Informal', 'Quant Adiantamento Deposito' e 'Qtd Fonte Renda' possuem mais de 50 % de missing\n",
    "- Os tomadores de crédito que já emitiram cheque sem fundo são melhores pagadores do que os que nunca emitiram.\n"
   ]
  },
  {
   "cell_type": "markdown",
   "metadata": {},
   "source": [
    "- 4606 IDs duplicados, melhor exclui-los pois apresentam informações contraditórias.\n",
    "Ou assumir que o ID que está errado e são pessoas diferentes.\n",
    "\n",
    "- As variáveis relacionadas ao valor de emprestimo Valor Emprestimo (Valor Emprestimo,\tMulta,\tJuros,\tValor Emprestimo Atualizado) possuem outlier, possível notar pelos boxplots.\n",
    "É possivel também realizar uma transformação log para anular os efeitos dessses valores.\n",
    "\n",
    "\n",
    "Como são dados de emprestimos, é possível haver números discrepantes, porém deve se avaliar se faz sentido considerar valores muito extremos, como os maiores que 50 milhões. \n",
    "Esses valores poderiam ser desconsiderados na modelagem para evitar afetar o resultado final.\n",
    "\n",
    "\n",
    "\n",
    "- Missing data\n",
    "\n",
    "Todas as variáveis que possuem missing data, possuem mais de 50%, não sendo recomendado realizar extrapolações \n",
    "\n",
    "- Escolaridade                    70.99%\n",
    "- Renda Mensal Informal           80.61%\n",
    "- Quant Adiantamento Deposito     56.65%\n",
    "- Qtd Fonte Renda                 74.58%\n",
    "- Valor Conta Corrente           100.00%\n",
    "- Valor Conta Poupanca           100.00%\n",
    "\n",
    "\n",
    "Se a porcentagem de missings por variável fosse menor, seria aconselhado atribuir os valores faltantes por alguma estratégia de imputação. Como calcular a média por categoria de variável por pago e não pago e não e atribuir aos missing datas."
   ]
  },
  {
   "cell_type": "markdown",
   "metadata": {},
   "source": [
    "Variáveis com valores constantes:\n",
    "- Controle: \"1\"\n",
    "- Data: \"2020-01-01\"\n",
    "- Valor_Conta_Corrente: \"nan\"\n",
    "- Valor_Conta_Poupanca: \"nan\""
   ]
  },
  {
   "cell_type": "markdown",
   "metadata": {},
   "source": [
    "Variáveis altamente correlacionadas:\n",
    "- Valor_Emprestimo e Multa (ρ = 0.9363298488)\n",
    "- Valor_Emprestimo_Atualizado e Valor_Emprestimo (ρ = 0.9611370408)\n",
    "- Multa e Juros (ρ = 0.9831362898)\t"
   ]
  },
  {
   "cell_type": "markdown",
   "metadata": {},
   "source": [
    "Variáveis possívelmente importantes para predição: Valor Emprestimo, Estado Civil, Cheque Sem Fundo, Idade, Dependentes"
   ]
  },
  {
   "cell_type": "markdown",
   "metadata": {},
   "source": [
    "72% dos tomadores de crédito que nunca emitiram Cheque Sem Fundo pagaram a dívida, enquanto que dos que emitiram Cheque Sem Fundo, 89% pagaram. Resultado contrário ao esperado."
   ]
  },
  {
   "cell_type": "markdown",
   "metadata": {},
   "source": [
    "76% dos tomadores de crédito que não possuem Conta Conjunta pagaram a dívida, enquanto que dos que possuem Conta Conjunta, 85% pagaram."
   ]
  },
  {
   "cell_type": "markdown",
   "metadata": {},
   "source": [
    "76% dos tomadores de crédito que não possuem Conta Salario pagaram a dívida, enquanto que dos que possuem Conta Salario, 70% pagaram."
   ]
  },
  {
   "cell_type": "markdown",
   "metadata": {},
   "source": [
    "72% dos tomadores de crédito que não possuem Conta Poupanca pagaram a dívida, enquanto que dos que possuem Conta Poupanca, 77% pagaram."
   ]
  },
  {
   "cell_type": "markdown",
   "metadata": {},
   "source": [
    "12 Variáveis Categoricas:\n",
    "Escolaridade, Dependentes, Estado Civil, Conta Poupanca, Conta Salario, Cheque Sem Fundo, Conta Conjunta, PAGO, Controle, ID, Genero, Estado\n",
    "\n",
    "10 Variáveis Numéricas: Idade, Renda Mensal Informal, Quant Adiantamento Deposito, Qtd Fonte Renda, Valor Conta Corrente, Valor Conta Poupanca, Valor Emprestimo, Multa, Juros, Valor Emprestimo Atualizado\n",
    "\n",
    "1 Variável de Data: Data\n",
    "\n",
    "Nenhuma das variáveis numéricas segue distribuição normal\n",
    "\n",
    "\n",
    "As variáveis categoricas devem ser transformadas em dummy para serem consideradas no modelo"
   ]
  },
  {
   "cell_type": "markdown",
   "metadata": {},
   "source": [
    "- Valor Emprestimo, Multa, Juros e Valor Emprestimo Atualizado são altamente correlacionados.\n",
    "- Renda Mensal Informal também está correlacionado positivamente a Escolaridade."
   ]
  },
  {
   "cell_type": "markdown",
   "metadata": {},
   "source": [
    "## Preparando as variáveis para a modelagem"
   ]
  },
  {
   "cell_type": "markdown",
   "metadata": {},
   "source": [
    "Tansformando as variáveis Categoricas em Dummies"
   ]
  },
  {
   "cell_type": "code",
   "execution_count": 8,
   "metadata": {},
   "outputs": [],
   "source": [
    "df['Conta Poupanca'] = [1 if (x == 'S')\n",
    "                        else -1 for x  in df['Conta Poupanca']]\n",
    "\n",
    "df['Conta Salario'] = [1 if (x == 'S')\n",
    "                       else -1 for x  in df['Conta Salario']]\n",
    "\n",
    "df['Cheque Sem Fundo'] = [1 if (x == 'S')\n",
    "                          else -1 for x  in df['Cheque Sem Fundo']]\n",
    "\n",
    "df['Conta Conjunta'] = [1 if (x == 'S')\n",
    "                        else -1 for x  in df['Conta Conjunta']]\n",
    "\n",
    "df['Dependentes'] = [1 if (x == 'S')\n",
    "                        else -1 for x  in df['Dependentes']]"
   ]
  },
  {
   "cell_type": "code",
   "execution_count": 9,
   "metadata": {},
   "outputs": [],
   "source": [
    "df = pd.get_dummies(df, columns=['Estado Civil','Estado'])"
   ]
  },
  {
   "cell_type": "code",
   "execution_count": 10,
   "metadata": {},
   "outputs": [
    {
     "data": {
      "text/html": [
       "<div>\n",
       "<style scoped>\n",
       "    .dataframe tbody tr th:only-of-type {\n",
       "        vertical-align: middle;\n",
       "    }\n",
       "\n",
       "    .dataframe tbody tr th {\n",
       "        vertical-align: top;\n",
       "    }\n",
       "\n",
       "    .dataframe thead th {\n",
       "        text-align: right;\n",
       "    }\n",
       "</style>\n",
       "<table border=\"1\" class=\"dataframe\">\n",
       "  <thead>\n",
       "    <tr style=\"text-align: right;\">\n",
       "      <th></th>\n",
       "      <th>Escolaridade</th>\n",
       "      <th>Renda Mensal Informal</th>\n",
       "      <th>Dependentes</th>\n",
       "      <th>Idade</th>\n",
       "      <th>Conta Poupanca</th>\n",
       "      <th>Conta Salario</th>\n",
       "      <th>Quant Adiantamento Deposito</th>\n",
       "      <th>Qtd Fonte Renda</th>\n",
       "      <th>Cheque Sem Fundo</th>\n",
       "      <th>Conta Conjunta</th>\n",
       "      <th>Valor Conta Corrente</th>\n",
       "      <th>Valor Conta Poupanca</th>\n",
       "      <th>Valor Emprestimo</th>\n",
       "      <th>Multa</th>\n",
       "      <th>Juros</th>\n",
       "      <th>Valor Emprestimo Atualizado</th>\n",
       "      <th>PAGO</th>\n",
       "      <th>Controle</th>\n",
       "      <th>ID</th>\n",
       "      <th>Genero</th>\n",
       "      <th>Data</th>\n",
       "      <th>Estado Civil_1</th>\n",
       "      <th>Estado Civil_2</th>\n",
       "      <th>Estado Civil_3</th>\n",
       "      <th>Estado Civil_4</th>\n",
       "      <th>Estado Civil_5</th>\n",
       "      <th>Estado Civil_7</th>\n",
       "      <th>Estado Civil_8</th>\n",
       "      <th>Estado Civil_9</th>\n",
       "      <th>Estado Civil_11</th>\n",
       "      <th>Estado_56</th>\n",
       "      <th>Estado_57</th>\n",
       "      <th>Estado_58</th>\n",
       "      <th>Estado_59</th>\n",
       "    </tr>\n",
       "  </thead>\n",
       "  <tbody>\n",
       "    <tr>\n",
       "      <th>0</th>\n",
       "      <td>NaN</td>\n",
       "      <td>NaN</td>\n",
       "      <td>1</td>\n",
       "      <td>36</td>\n",
       "      <td>1</td>\n",
       "      <td>-1</td>\n",
       "      <td>NaN</td>\n",
       "      <td>NaN</td>\n",
       "      <td>-1</td>\n",
       "      <td>-1</td>\n",
       "      <td>NaN</td>\n",
       "      <td>NaN</td>\n",
       "      <td>8174.32</td>\n",
       "      <td>263.25</td>\n",
       "      <td>5844.98</td>\n",
       "      <td>14282.55</td>\n",
       "      <td>1</td>\n",
       "      <td>1</td>\n",
       "      <td>1328587.0</td>\n",
       "      <td>1</td>\n",
       "      <td>2020-01-01</td>\n",
       "      <td>0</td>\n",
       "      <td>1</td>\n",
       "      <td>0</td>\n",
       "      <td>0</td>\n",
       "      <td>0</td>\n",
       "      <td>0</td>\n",
       "      <td>0</td>\n",
       "      <td>0</td>\n",
       "      <td>0</td>\n",
       "      <td>0</td>\n",
       "      <td>1</td>\n",
       "      <td>0</td>\n",
       "      <td>0</td>\n",
       "    </tr>\n",
       "    <tr>\n",
       "      <th>1</th>\n",
       "      <td>1.0</td>\n",
       "      <td>1894.5078</td>\n",
       "      <td>-1</td>\n",
       "      <td>39</td>\n",
       "      <td>1</td>\n",
       "      <td>-1</td>\n",
       "      <td>2.0</td>\n",
       "      <td>1.0</td>\n",
       "      <td>1</td>\n",
       "      <td>-1</td>\n",
       "      <td>NaN</td>\n",
       "      <td>NaN</td>\n",
       "      <td>41775.63</td>\n",
       "      <td>1607.29</td>\n",
       "      <td>7652.26</td>\n",
       "      <td>51035.18</td>\n",
       "      <td>1</td>\n",
       "      <td>1</td>\n",
       "      <td>1424254.0</td>\n",
       "      <td>1</td>\n",
       "      <td>2020-01-01</td>\n",
       "      <td>0</td>\n",
       "      <td>1</td>\n",
       "      <td>0</td>\n",
       "      <td>0</td>\n",
       "      <td>0</td>\n",
       "      <td>0</td>\n",
       "      <td>0</td>\n",
       "      <td>0</td>\n",
       "      <td>0</td>\n",
       "      <td>0</td>\n",
       "      <td>0</td>\n",
       "      <td>0</td>\n",
       "      <td>1</td>\n",
       "    </tr>\n",
       "    <tr>\n",
       "      <th>2</th>\n",
       "      <td>1.0</td>\n",
       "      <td>NaN</td>\n",
       "      <td>1</td>\n",
       "      <td>26</td>\n",
       "      <td>1</td>\n",
       "      <td>-1</td>\n",
       "      <td>NaN</td>\n",
       "      <td>1.0</td>\n",
       "      <td>1</td>\n",
       "      <td>-1</td>\n",
       "      <td>NaN</td>\n",
       "      <td>NaN</td>\n",
       "      <td>522940.27</td>\n",
       "      <td>24860.40</td>\n",
       "      <td>319315.62</td>\n",
       "      <td>867116.29</td>\n",
       "      <td>1</td>\n",
       "      <td>1</td>\n",
       "      <td>1438519.0</td>\n",
       "      <td>0</td>\n",
       "      <td>2020-01-01</td>\n",
       "      <td>0</td>\n",
       "      <td>1</td>\n",
       "      <td>0</td>\n",
       "      <td>0</td>\n",
       "      <td>0</td>\n",
       "      <td>0</td>\n",
       "      <td>0</td>\n",
       "      <td>0</td>\n",
       "      <td>0</td>\n",
       "      <td>1</td>\n",
       "      <td>0</td>\n",
       "      <td>0</td>\n",
       "      <td>0</td>\n",
       "    </tr>\n",
       "    <tr>\n",
       "      <th>3</th>\n",
       "      <td>NaN</td>\n",
       "      <td>NaN</td>\n",
       "      <td>-1</td>\n",
       "      <td>23</td>\n",
       "      <td>-1</td>\n",
       "      <td>-1</td>\n",
       "      <td>NaN</td>\n",
       "      <td>NaN</td>\n",
       "      <td>-1</td>\n",
       "      <td>-1</td>\n",
       "      <td>NaN</td>\n",
       "      <td>NaN</td>\n",
       "      <td>1593.00</td>\n",
       "      <td>21472.36</td>\n",
       "      <td>2967.48</td>\n",
       "      <td>26032.84</td>\n",
       "      <td>1</td>\n",
       "      <td>1</td>\n",
       "      <td>1426138.0</td>\n",
       "      <td>1</td>\n",
       "      <td>2020-01-01</td>\n",
       "      <td>0</td>\n",
       "      <td>0</td>\n",
       "      <td>0</td>\n",
       "      <td>0</td>\n",
       "      <td>0</td>\n",
       "      <td>0</td>\n",
       "      <td>1</td>\n",
       "      <td>0</td>\n",
       "      <td>0</td>\n",
       "      <td>1</td>\n",
       "      <td>0</td>\n",
       "      <td>0</td>\n",
       "      <td>0</td>\n",
       "    </tr>\n",
       "    <tr>\n",
       "      <th>4</th>\n",
       "      <td>NaN</td>\n",
       "      <td>NaN</td>\n",
       "      <td>1</td>\n",
       "      <td>33</td>\n",
       "      <td>1</td>\n",
       "      <td>-1</td>\n",
       "      <td>NaN</td>\n",
       "      <td>NaN</td>\n",
       "      <td>-1</td>\n",
       "      <td>-1</td>\n",
       "      <td>NaN</td>\n",
       "      <td>NaN</td>\n",
       "      <td>2078.97</td>\n",
       "      <td>19.44</td>\n",
       "      <td>46.35</td>\n",
       "      <td>2144.76</td>\n",
       "      <td>1</td>\n",
       "      <td>1</td>\n",
       "      <td>1474504.0</td>\n",
       "      <td>0</td>\n",
       "      <td>2020-01-01</td>\n",
       "      <td>0</td>\n",
       "      <td>1</td>\n",
       "      <td>0</td>\n",
       "      <td>0</td>\n",
       "      <td>0</td>\n",
       "      <td>0</td>\n",
       "      <td>0</td>\n",
       "      <td>0</td>\n",
       "      <td>0</td>\n",
       "      <td>0</td>\n",
       "      <td>0</td>\n",
       "      <td>0</td>\n",
       "      <td>1</td>\n",
       "    </tr>\n",
       "  </tbody>\n",
       "</table>\n",
       "</div>"
      ],
      "text/plain": [
       "   Escolaridade  Renda Mensal Informal  Dependentes  Idade  Conta Poupanca  \\\n",
       "0           NaN                    NaN            1     36               1   \n",
       "1           1.0              1894.5078           -1     39               1   \n",
       "2           1.0                    NaN            1     26               1   \n",
       "3           NaN                    NaN           -1     23              -1   \n",
       "4           NaN                    NaN            1     33               1   \n",
       "\n",
       "   Conta Salario  Quant Adiantamento Deposito  Qtd Fonte Renda  \\\n",
       "0             -1                          NaN              NaN   \n",
       "1             -1                          2.0              1.0   \n",
       "2             -1                          NaN              1.0   \n",
       "3             -1                          NaN              NaN   \n",
       "4             -1                          NaN              NaN   \n",
       "\n",
       "   Cheque Sem Fundo  Conta Conjunta  Valor Conta Corrente  \\\n",
       "0                -1              -1                   NaN   \n",
       "1                 1              -1                   NaN   \n",
       "2                 1              -1                   NaN   \n",
       "3                -1              -1                   NaN   \n",
       "4                -1              -1                   NaN   \n",
       "\n",
       "   Valor Conta Poupanca  Valor Emprestimo     Multa      Juros  \\\n",
       "0                   NaN           8174.32    263.25    5844.98   \n",
       "1                   NaN          41775.63   1607.29    7652.26   \n",
       "2                   NaN         522940.27  24860.40  319315.62   \n",
       "3                   NaN           1593.00  21472.36    2967.48   \n",
       "4                   NaN           2078.97     19.44      46.35   \n",
       "\n",
       "   Valor Emprestimo Atualizado  PAGO  Controle         ID  Genero        Data  \\\n",
       "0                     14282.55     1         1  1328587.0       1  2020-01-01   \n",
       "1                     51035.18     1         1  1424254.0       1  2020-01-01   \n",
       "2                    867116.29     1         1  1438519.0       0  2020-01-01   \n",
       "3                     26032.84     1         1  1426138.0       1  2020-01-01   \n",
       "4                      2144.76     1         1  1474504.0       0  2020-01-01   \n",
       "\n",
       "   Estado Civil_1  Estado Civil_2  Estado Civil_3  Estado Civil_4  \\\n",
       "0               0               1               0               0   \n",
       "1               0               1               0               0   \n",
       "2               0               1               0               0   \n",
       "3               0               0               0               0   \n",
       "4               0               1               0               0   \n",
       "\n",
       "   Estado Civil_5  Estado Civil_7  Estado Civil_8  Estado Civil_9  \\\n",
       "0               0               0               0               0   \n",
       "1               0               0               0               0   \n",
       "2               0               0               0               0   \n",
       "3               0               0               1               0   \n",
       "4               0               0               0               0   \n",
       "\n",
       "   Estado Civil_11  Estado_56  Estado_57  Estado_58  Estado_59  \n",
       "0                0          0          1          0          0  \n",
       "1                0          0          0          0          1  \n",
       "2                0          1          0          0          0  \n",
       "3                0          1          0          0          0  \n",
       "4                0          0          0          0          1  "
      ]
     },
     "execution_count": 10,
     "metadata": {},
     "output_type": "execute_result"
    }
   ],
   "source": [
    "df.head()"
   ]
  },
  {
   "cell_type": "code",
   "execution_count": 11,
   "metadata": {},
   "outputs": [],
   "source": [
    "#df.drop(['Controle', 'ID', 'Data', 'Estado', 'Escolaridade', 'Estado Civil'], inplace=True, axis=1)\n",
    "#df.shape"
   ]
  },
  {
   "cell_type": "code",
   "execution_count": 12,
   "metadata": {},
   "outputs": [],
   "source": [
    "#feature_list = list(['Dependentes','Idade', 'Conta Poupanca', 'Conta Salario', 'Cheque Sem Fundo', \n",
    "#                     'Conta Conjunta','Valor Emprestimo','Genero'])\n",
    "\n",
    "feature_list = list(['Dependentes','Idade', 'Conta Poupanca', 'Conta Salario', 'Cheque Sem Fundo', \n",
    "                     'Conta Conjunta','Valor Emprestimo','Genero', 'Estado Civil_1', 'Estado Civil_2',\n",
    "                     'Estado Civil_3', 'Estado Civil_4', 'Estado Civil_5', 'Estado Civil_7', 'Estado Civil_8', \n",
    "                     'Estado Civil_9','Estado Civil_11', 'Estado_56', \n",
    "                     'Estado_57', 'Estado_58', 'Estado_59'])\n",
    "\n",
    "\n",
    "# 'Multa', 'Juros', 'Valor Emprestimo Atualizado', "
   ]
  },
  {
   "cell_type": "markdown",
   "metadata": {},
   "source": [
    "As variáveis 'Valor Conta Corrente' e 'Valor Conta Poupanca' possuem todas as observações nulas.           "
   ]
  },
  {
   "cell_type": "markdown",
   "metadata": {},
   "source": [
    "# 2) Treine um modelo de classificação eficiente e robusto para a previsão de bons e maus pagadores. Para isso você deve realizar um experimento utilizando pelo menos dois modelos. Cada um dos modelos deve ter seus parâmetros ajustados com objetivo de maximizar sua capacidade de generalização, além de garantir eficiência e robustez.  "
   ]
  },
  {
   "cell_type": "markdown",
   "metadata": {},
   "source": [
    "## Separando em 3 bases"
   ]
  },
  {
   "cell_type": "code",
   "execution_count": 18,
   "metadata": {},
   "outputs": [],
   "source": [
    "train, test = train_test_split(df,\n",
    "                               test_size=0.3,\n",
    "                               random_state = 42) # 70% treinamento e 30% teste\n",
    "\n",
    "train, gold_standard = train_test_split(train,\n",
    "                               test_size=0.3,\n",
    "                               random_state = 42) # 70% treinamento e 30% teste"
   ]
  },
  {
   "cell_type": "code",
   "execution_count": 19,
   "metadata": {},
   "outputs": [
    {
     "data": {
      "text/plain": [
       "(24691, 34)"
      ]
     },
     "execution_count": 19,
     "metadata": {},
     "output_type": "execute_result"
    }
   ],
   "source": [
    "train.shape"
   ]
  },
  {
   "cell_type": "code",
   "execution_count": 20,
   "metadata": {},
   "outputs": [
    {
     "data": {
      "text/plain": [
       "(15117, 34)"
      ]
     },
     "execution_count": 20,
     "metadata": {},
     "output_type": "execute_result"
    }
   ],
   "source": [
    "test.shape"
   ]
  },
  {
   "cell_type": "code",
   "execution_count": 21,
   "metadata": {},
   "outputs": [
    {
     "data": {
      "text/plain": [
       "(10582, 34)"
      ]
     },
     "execution_count": 21,
     "metadata": {},
     "output_type": "execute_result"
    }
   ],
   "source": [
    "gold_standard.shape"
   ]
  },
  {
   "cell_type": "code",
   "execution_count": 22,
   "metadata": {},
   "outputs": [],
   "source": [
    "x_train = train[feature_list]\n",
    "y_train = train['PAGO']\n",
    "\n",
    "x_test = test[feature_list]\n",
    "y_test = test['PAGO']\n",
    "\n",
    "x_gold = gold_standard[feature_list]\n",
    "y_gold = gold_standard['PAGO']"
   ]
  },
  {
   "cell_type": "markdown",
   "metadata": {},
   "source": [
    "## 1 - Random Forest"
   ]
  },
  {
   "cell_type": "code",
   "execution_count": 23,
   "metadata": {},
   "outputs": [],
   "source": [
    "clf=RandomForestClassifier(\n",
    "    n_estimators= 1000, \n",
    "    #random_state = random.randint(0,500), \n",
    "    random_state = 234, \n",
    "    max_depth=10)"
   ]
  },
  {
   "cell_type": "code",
   "execution_count": 24,
   "metadata": {},
   "outputs": [
    {
     "data": {
      "text/plain": [
       "RandomForestClassifier(bootstrap=True, ccp_alpha=0.0, class_weight=None,\n",
       "                       criterion='gini', max_depth=10, max_features='auto',\n",
       "                       max_leaf_nodes=None, max_samples=None,\n",
       "                       min_impurity_decrease=0.0, min_impurity_split=None,\n",
       "                       min_samples_leaf=1, min_samples_split=2,\n",
       "                       min_weight_fraction_leaf=0.0, n_estimators=1000,\n",
       "                       n_jobs=None, oob_score=False, random_state=234,\n",
       "                       verbose=0, warm_start=False)"
      ]
     },
     "execution_count": 24,
     "metadata": {},
     "output_type": "execute_result"
    }
   ],
   "source": [
    "clf.fit(x_train, y_train) "
   ]
  },
  {
   "cell_type": "code",
   "execution_count": 25,
   "metadata": {},
   "outputs": [],
   "source": [
    "y_pred_test = clf.predict(x_test)"
   ]
  },
  {
   "cell_type": "code",
   "execution_count": 26,
   "metadata": {},
   "outputs": [],
   "source": [
    "y_pred_train = clf.predict(x_train)"
   ]
  },
  {
   "cell_type": "code",
   "execution_count": 27,
   "metadata": {},
   "outputs": [],
   "source": [
    "y_pred_gold = clf.predict(x_gold)"
   ]
  },
  {
   "cell_type": "markdown",
   "metadata": {},
   "source": [
    "# 3) Utilize todas as métricas que achar necessário para análise dos resultados."
   ]
  },
  {
   "cell_type": "code",
   "execution_count": 36,
   "metadata": {},
   "outputs": [
    {
     "name": "stdout",
     "output_type": "stream",
     "text": [
      "Train:               precision    recall  f1-score   support\n",
      "\n",
      "           0       0.82      0.22      0.34      5220\n",
      "           1       0.82      0.99      0.90     19471\n",
      "\n",
      "    accuracy                           0.82     24691\n",
      "   macro avg       0.82      0.60      0.62     24691\n",
      "weighted avg       0.82      0.82      0.78     24691\n",
      "\n",
      "Test:               precision    recall  f1-score   support\n",
      "\n",
      "           0       0.73      0.18      0.29      3124\n",
      "           1       0.82      0.98      0.89     11993\n",
      "\n",
      "    accuracy                           0.82     15117\n",
      "   macro avg       0.77      0.58      0.59     15117\n",
      "weighted avg       0.80      0.82      0.77     15117\n",
      "\n",
      "Gold_standard:               precision    recall  f1-score   support\n",
      "\n",
      "           0       0.76      0.19      0.30      2193\n",
      "           1       0.82      0.98      0.90      8389\n",
      "\n",
      "    accuracy                           0.82     10582\n",
      "   macro avg       0.79      0.59      0.60     10582\n",
      "weighted avg       0.81      0.82      0.77     10582\n",
      "\n"
     ]
    }
   ],
   "source": [
    "print(\"Train:\", classification_report(y_train, y_pred_train))\n",
    "\n",
    "print(\"Test:\", classification_report(y_test, y_pred_test))\n",
    "\n",
    "print(\"Gold_standard:\", classification_report(y_gold, y_pred_gold))"
   ]
  },
  {
   "cell_type": "code",
   "execution_count": 37,
   "metadata": {
    "scrolled": true
   },
   "outputs": [
    {
     "name": "stdout",
     "output_type": "stream",
     "text": [
      "Variavel: Valor Emprestimo     Importancia: 0.33\n",
      "Variavel: Estado Civil_4       Importancia: 0.15\n",
      "Variavel: Estado Civil_2       Importancia: 0.14\n",
      "Variavel: Cheque Sem Fundo     Importancia: 0.11\n",
      "Variavel: Idade                Importancia: 0.1\n",
      "Variavel: Dependentes          Importancia: 0.06\n",
      "Variavel: Conta Poupanca       Importancia: 0.02\n",
      "Variavel: Estado Civil_8       Importancia: 0.02\n",
      "Variavel: Conta Salario        Importancia: 0.01\n",
      "Variavel: Conta Conjunta       Importancia: 0.01\n",
      "Variavel: Genero               Importancia: 0.01\n",
      "Variavel: Estado Civil_9       Importancia: 0.01\n",
      "Variavel: Estado_56            Importancia: 0.01\n",
      "Variavel: Estado_57            Importancia: 0.01\n",
      "Variavel: Estado_58            Importancia: 0.01\n",
      "Variavel: Estado_59            Importancia: 0.01\n",
      "Variavel: Estado Civil_1       Importancia: 0.0\n",
      "Variavel: Estado Civil_3       Importancia: 0.0\n",
      "Variavel: Estado Civil_5       Importancia: 0.0\n",
      "Variavel: Estado Civil_7       Importancia: 0.0\n",
      "Variavel: Estado Civil_11      Importancia: 0.0\n"
     ]
    }
   ],
   "source": [
    "# Importancia das features \n",
    "importances = list(clf.feature_importances_)\n",
    "# Listar nome da variavel e sua importancia\n",
    "feature_importances = [(feature, round(importance, 2)) for feature, importance in zip(feature_list, importances)]\n",
    "# Ordenar a importancia\n",
    "feature_importances = sorted(feature_importances, key = lambda x: x[1], reverse = True)\n",
    "\n",
    "# Mostrar os resultados\n",
    "[print('Variavel: {:20} Importancia: {}'.format(*pair)) for pair in feature_importances];"
   ]
  },
  {
   "cell_type": "markdown",
   "metadata": {},
   "source": [
    "Matriz de Confusão VP no quadrante superior esquerdo"
   ]
  },
  {
   "cell_type": "code",
   "execution_count": 38,
   "metadata": {},
   "outputs": [
    {
     "data": {
      "text/plain": [
       "array([[19216,   255],\n",
       "       [ 4092,  1128]])"
      ]
     },
     "execution_count": 38,
     "metadata": {},
     "output_type": "execute_result"
    }
   ],
   "source": [
    "cm_train = get_confusion_matrix(y_train, y_pred_train, labels=[1,0])\n",
    "cm_train"
   ]
  },
  {
   "cell_type": "code",
   "execution_count": 39,
   "metadata": {},
   "outputs": [
    {
     "data": {
      "text/plain": [
       "array([[11775,   218],\n",
       "       [ 2549,   575]])"
      ]
     },
     "execution_count": 39,
     "metadata": {},
     "output_type": "execute_result"
    }
   ],
   "source": [
    "cm_test = get_confusion_matrix(y_test, y_pred_test, labels=[1,0])\n",
    "cm_test"
   ]
  },
  {
   "cell_type": "code",
   "execution_count": 40,
   "metadata": {},
   "outputs": [
    {
     "data": {
      "text/plain": [
       "array([[8262,  127],\n",
       "       [1781,  412]])"
      ]
     },
     "execution_count": 40,
     "metadata": {},
     "output_type": "execute_result"
    }
   ],
   "source": [
    "cm_gold = get_confusion_matrix(y_gold, y_pred_gold, labels=[1,0])\n",
    "cm_gold"
   ]
  },
  {
   "cell_type": "markdown",
   "metadata": {},
   "source": [
    "Matriz de Confusão VP no quadrante inferior direito"
   ]
  },
  {
   "cell_type": "code",
   "execution_count": 41,
   "metadata": {
    "scrolled": true
   },
   "outputs": [
    {
     "name": "stdout",
     "output_type": "stream",
     "text": [
      "Confusion matrix, without normalization\n",
      "[[ 1128  4092]\n",
      " [  255 19216]]\n",
      "Confusion matrix, without normalization\n",
      "[[  575  2549]\n",
      " [  218 11775]]\n",
      "Confusion matrix, without normalization\n",
      "[[ 412 1781]\n",
      " [ 127 8262]]\n"
     ]
    },
    {
     "data": {
      "image/png": "[encoded data removed]",
      "text/plain": [
       "<Figure size 432x288 with 2 Axes>"
      ]
     },
     "metadata": {
      "needs_background": "light"
     },
     "output_type": "display_data"
    },
    {
     "data": {
      "image/png": "[encoded data removed]",
      "text/plain": [
       "<Figure size 432x288 with 2 Axes>"
      ]
     },
     "metadata": {
      "needs_background": "light"
     },
     "output_type": "display_data"
    },
    {
     "data": {
      "image/png": "[encoded data removed]",
      "text/plain": [
       "<Figure size 432x288 with 2 Axes>"
      ]
     },
     "metadata": {
      "needs_background": "light"
     },
     "output_type": "display_data"
    }
   ],
   "source": [
    "#plot_confusion_matrix(y_gold, y_pred_gold)\n",
    "plot_1 = plot_confusion_matrix(y_train, y_pred_train, classes=np.array([0,1]),\n",
    "                      title='Matrix de Confusão: Treinamento')\n",
    "\n",
    "plot_2 = plot_confusion_matrix(y_test, y_pred_test, classes=np.array([0,1]),\n",
    "                      title='Matrix de Confusão: Teste')\n",
    "\n",
    "plot_3 = plot_confusion_matrix(y_gold, y_pred_gold, classes=np.array([0,1]),\n",
    "                      title='Matrix de Confusão: Gold Standard')"
   ]
  },
  {
   "cell_type": "markdown",
   "metadata": {},
   "source": [
    "## 2 - Random Forest -  Modelagem com a base balanceada"
   ]
  },
  {
   "cell_type": "code",
   "execution_count": 42,
   "metadata": {},
   "outputs": [
    {
     "data": {
      "text/plain": [
       "1    39853\n",
       "0    10537\n",
       "Name: PAGO, dtype: int64"
      ]
     },
     "execution_count": 42,
     "metadata": {},
     "output_type": "execute_result"
    }
   ],
   "source": [
    "df_pago = df[df['PAGO']==1]\n",
    "df_npago = df[df['PAGO']==0]\n",
    "df['PAGO'].value_counts()"
   ]
  },
  {
   "cell_type": "code",
   "execution_count": 43,
   "metadata": {},
   "outputs": [
    {
     "name": "stdout",
     "output_type": "stream",
     "text": [
      "1    39853\n",
      "Name: PAGO, dtype: int64\n",
      "0    10537\n",
      "Name: PAGO, dtype: int64\n"
     ]
    }
   ],
   "source": [
    "print(df_pago['PAGO'].value_counts())\n",
    "\n",
    "print(df_npago['PAGO'].value_counts())\n"
   ]
  },
  {
   "cell_type": "code",
   "execution_count": 44,
   "metadata": {},
   "outputs": [
    {
     "data": {
      "text/plain": [
       "(10537, 34)"
      ]
     },
     "execution_count": 44,
     "metadata": {},
     "output_type": "execute_result"
    }
   ],
   "source": [
    "df_pago=df_pago.sample(n=10537, random_state=234)\n",
    "df_pago.shape"
   ]
  },
  {
   "cell_type": "code",
   "execution_count": 45,
   "metadata": {},
   "outputs": [
    {
     "data": {
      "text/plain": [
       "1    10537\n",
       "0    10537\n",
       "Name: PAGO, dtype: int64"
      ]
     },
     "execution_count": 45,
     "metadata": {},
     "output_type": "execute_result"
    }
   ],
   "source": [
    "df_balanceado = df_pago.append(df_npago, sort = False)\n",
    "df_balanceado['PAGO'].value_counts()"
   ]
  },
  {
   "cell_type": "markdown",
   "metadata": {},
   "source": [
    "Separando em 3 bases"
   ]
  },
  {
   "cell_type": "code",
   "execution_count": 46,
   "metadata": {},
   "outputs": [],
   "source": [
    "train_balanceado, test_balanceado = train_test_split(df_balanceado,\n",
    "                               test_size=0.3,\n",
    "                               random_state = 42) # 70% treinamento e 30% teste\n",
    "\n",
    "train_balanceado, gold_standard_balanceado = train_test_split(train_balanceado,\n",
    "                               test_size=0.3,\n",
    "                               random_state = 42) # 70% treinamento e 30% teste"
   ]
  },
  {
   "cell_type": "code",
   "execution_count": 47,
   "metadata": {},
   "outputs": [
    {
     "data": {
      "text/plain": [
       "(10325, 34)"
      ]
     },
     "execution_count": 47,
     "metadata": {},
     "output_type": "execute_result"
    }
   ],
   "source": [
    "train_balanceado.shape"
   ]
  },
  {
   "cell_type": "code",
   "execution_count": 48,
   "metadata": {},
   "outputs": [
    {
     "data": {
      "text/plain": [
       "(6323, 34)"
      ]
     },
     "execution_count": 48,
     "metadata": {},
     "output_type": "execute_result"
    }
   ],
   "source": [
    "test_balanceado.shape"
   ]
  },
  {
   "cell_type": "code",
   "execution_count": 49,
   "metadata": {},
   "outputs": [
    {
     "data": {
      "text/plain": [
       "(4426, 34)"
      ]
     },
     "execution_count": 49,
     "metadata": {},
     "output_type": "execute_result"
    }
   ],
   "source": [
    "gold_standard_balanceado.shape"
   ]
  },
  {
   "cell_type": "code",
   "execution_count": 50,
   "metadata": {},
   "outputs": [],
   "source": [
    "x_train = train_balanceado[feature_list]\n",
    "y_train = train_balanceado['PAGO']\n",
    "\n",
    "x_test = test_balanceado[feature_list]\n",
    "y_test = test_balanceado['PAGO']\n",
    "\n",
    "x_gold = gold_standard_balanceado[feature_list]\n",
    "y_gold = gold_standard_balanceado['PAGO']"
   ]
  },
  {
   "cell_type": "code",
   "execution_count": 51,
   "metadata": {},
   "outputs": [],
   "source": [
    "clf=RandomForestClassifier(\n",
    "    n_estimators= 1000, \n",
    "    #random_state = random.randint(0,500), \n",
    "    random_state = 234, \n",
    "    max_depth=10)"
   ]
  },
  {
   "cell_type": "code",
   "execution_count": 52,
   "metadata": {
    "scrolled": true
   },
   "outputs": [
    {
     "data": {
      "text/plain": [
       "RandomForestClassifier(bootstrap=True, ccp_alpha=0.0, class_weight=None,\n",
       "                       criterion='gini', max_depth=10, max_features='auto',\n",
       "                       max_leaf_nodes=None, max_samples=None,\n",
       "                       min_impurity_decrease=0.0, min_impurity_split=None,\n",
       "                       min_samples_leaf=1, min_samples_split=2,\n",
       "                       min_weight_fraction_leaf=0.0, n_estimators=1000,\n",
       "                       n_jobs=None, oob_score=False, random_state=234,\n",
       "                       verbose=0, warm_start=False)"
      ]
     },
     "execution_count": 52,
     "metadata": {},
     "output_type": "execute_result"
    }
   ],
   "source": [
    "clf.fit(x_train, y_train) "
   ]
  },
  {
   "cell_type": "code",
   "execution_count": 53,
   "metadata": {},
   "outputs": [],
   "source": [
    "y_pred_test = clf.predict(x_test)"
   ]
  },
  {
   "cell_type": "code",
   "execution_count": 54,
   "metadata": {},
   "outputs": [],
   "source": [
    "y_pred_train = clf.predict(x_train)"
   ]
  },
  {
   "cell_type": "code",
   "execution_count": 55,
   "metadata": {},
   "outputs": [],
   "source": [
    "y_pred_gold = clf.predict(x_gold)"
   ]
  },
  {
   "cell_type": "code",
   "execution_count": 56,
   "metadata": {},
   "outputs": [
    {
     "name": "stdout",
     "output_type": "stream",
     "text": [
      "Train:               precision    recall  f1-score   support\n",
      "\n",
      "           0       0.77      0.74      0.76      5151\n",
      "           1       0.75      0.79      0.77      5174\n",
      "\n",
      "    accuracy                           0.76     10325\n",
      "   macro avg       0.76      0.76      0.76     10325\n",
      "weighted avg       0.76      0.76      0.76     10325\n",
      "\n",
      "Test:               precision    recall  f1-score   support\n",
      "\n",
      "           0       0.72      0.69      0.71      3118\n",
      "           1       0.71      0.74      0.73      3205\n",
      "\n",
      "    accuracy                           0.72      6323\n",
      "   macro avg       0.72      0.72      0.72      6323\n",
      "weighted avg       0.72      0.72      0.72      6323\n",
      "\n",
      "Gold_standard:               precision    recall  f1-score   support\n",
      "\n",
      "           0       0.73      0.68      0.70      2268\n",
      "           1       0.68      0.73      0.71      2158\n",
      "\n",
      "    accuracy                           0.71      4426\n",
      "   macro avg       0.71      0.71      0.71      4426\n",
      "weighted avg       0.71      0.71      0.71      4426\n",
      "\n"
     ]
    }
   ],
   "source": [
    "print(\"Train:\", classification_report(y_train, y_pred_train))\n",
    "\n",
    "print(\"Test:\", classification_report(y_test, y_pred_test))\n",
    "\n",
    "print(\"Gold_standard:\", classification_report(y_gold, y_pred_gold))"
   ]
  },
  {
   "cell_type": "code",
   "execution_count": 57,
   "metadata": {
    "scrolled": true
   },
   "outputs": [
    {
     "name": "stdout",
     "output_type": "stream",
     "text": [
      "Variavel: Valor Emprestimo     Importancia: 0.28\n",
      "Variavel: Estado Civil_2       Importancia: 0.17\n",
      "Variavel: Estado Civil_4       Importancia: 0.14\n",
      "Variavel: Idade                Importancia: 0.12\n",
      "Variavel: Cheque Sem Fundo     Importancia: 0.1\n",
      "Variavel: Dependentes          Importancia: 0.08\n",
      "Variavel: Conta Poupanca       Importancia: 0.02\n",
      "Variavel: Genero               Importancia: 0.02\n",
      "Variavel: Estado Civil_8       Importancia: 0.02\n",
      "Variavel: Conta Salario        Importancia: 0.01\n",
      "Variavel: Conta Conjunta       Importancia: 0.01\n",
      "Variavel: Estado Civil_3       Importancia: 0.01\n",
      "Variavel: Estado_56            Importancia: 0.01\n",
      "Variavel: Estado_57            Importancia: 0.01\n",
      "Variavel: Estado_58            Importancia: 0.01\n",
      "Variavel: Estado_59            Importancia: 0.01\n",
      "Variavel: Estado Civil_1       Importancia: 0.0\n",
      "Variavel: Estado Civil_5       Importancia: 0.0\n",
      "Variavel: Estado Civil_7       Importancia: 0.0\n",
      "Variavel: Estado Civil_9       Importancia: 0.0\n",
      "Variavel: Estado Civil_11      Importancia: 0.0\n"
     ]
    }
   ],
   "source": [
    "# Importancia das features \n",
    "importances = list(clf.feature_importances_)\n",
    "# Listar nome da variavel e sua importancia\n",
    "feature_importances = [(feature, round(importance, 2)) for feature, importance in zip(feature_list, importances)]\n",
    "# Ordenar a importancia\n",
    "feature_importances = sorted(feature_importances, key = lambda x: x[1], reverse = True)\n",
    "\n",
    "# Mostrar os resultados\n",
    "[print('Variavel: {:20} Importancia: {}'.format(*pair)) for pair in feature_importances];"
   ]
  },
  {
   "cell_type": "code",
   "execution_count": 46,
   "metadata": {},
   "outputs": [
    {
     "data": {
      "text/plain": [
       "array([[4065, 1109],\n",
       "       [1354, 3797]])"
      ]
     },
     "execution_count": 46,
     "metadata": {},
     "output_type": "execute_result"
    }
   ],
   "source": [
    "cm_train = get_confusion_matrix(y_train, y_pred_train, labels=[1,0])\n",
    "cm_train"
   ]
  },
  {
   "cell_type": "code",
   "execution_count": 47,
   "metadata": {},
   "outputs": [
    {
     "data": {
      "text/plain": [
       "array([[2384,  821],\n",
       "       [ 954, 2164]])"
      ]
     },
     "execution_count": 47,
     "metadata": {},
     "output_type": "execute_result"
    }
   ],
   "source": [
    "cm_test = get_confusion_matrix(y_test, y_pred_test, labels=[1,0])\n",
    "cm_test"
   ]
  },
  {
   "cell_type": "code",
   "execution_count": 48,
   "metadata": {},
   "outputs": [
    {
     "data": {
      "text/plain": [
       "array([[1583,  575],\n",
       "       [ 730, 1538]])"
      ]
     },
     "execution_count": 48,
     "metadata": {},
     "output_type": "execute_result"
    }
   ],
   "source": [
    "cm_gold = get_confusion_matrix(y_gold, y_pred_gold, labels=[1,0])\n",
    "cm_gold"
   ]
  },
  {
   "cell_type": "code",
   "execution_count": 49,
   "metadata": {
    "scrolled": true
   },
   "outputs": [
    {
     "name": "stdout",
     "output_type": "stream",
     "text": [
      "Confusion matrix, without normalization\n",
      "[[3797 1354]\n",
      " [1109 4065]]\n",
      "Confusion matrix, without normalization\n",
      "[[2164  954]\n",
      " [ 821 2384]]\n",
      "Confusion matrix, without normalization\n",
      "[[1538  730]\n",
      " [ 575 1583]]\n"
     ]
    },
    {
     "data": {
      "image/png": "[encoded data removed]",
      "text/plain": [
       "<Figure size 432x288 with 2 Axes>"
      ]
     },
     "metadata": {
      "needs_background": "light"
     },
     "output_type": "display_data"
    },
    {
     "data": {
      "image/png": "[encoded data removed]",
      "text/plain": [
       "<Figure size 432x288 with 2 Axes>"
      ]
     },
     "metadata": {
      "needs_background": "light"
     },
     "output_type": "display_data"
    },
    {
     "data": {
      "image/png": "[encoded data removed]",
      "text/plain": [
       "<Figure size 432x288 with 2 Axes>"
      ]
     },
     "metadata": {
      "needs_background": "light"
     },
     "output_type": "display_data"
    }
   ],
   "source": [
    "#plot_confusion_matrix(y_gold, y_pred_gold)\n",
    "plot_1 = plot_confusion_matrix(y_train, y_pred_train, classes=np.array([0,1]),\n",
    "                      title='Matrix de Confusão: Treinamento')\n",
    "\n",
    "plot_2 = plot_confusion_matrix(y_test, y_pred_test, classes=np.array([0,1]),\n",
    "                      title='Matrix de Confusão: Teste')\n",
    "\n",
    "plot_3 = plot_confusion_matrix(y_gold, y_pred_gold, classes=np.array([0,1]),\n",
    "                      title='Matrix de Confusão: Gold Standard')"
   ]
  },
  {
   "cell_type": "markdown",
   "metadata": {},
   "source": [
    "## 3 - Modelagem - Árvore de decisão\n"
   ]
  },
  {
   "cell_type": "code",
   "execution_count": 58,
   "metadata": {},
   "outputs": [],
   "source": [
    "# Create Decision Tree classifer object\n",
    "clf = DecisionTreeClassifier()\n",
    "# Train Decision Tree Classifer\n",
    "clf = clf.fit(x_train,y_train)\n"
   ]
  },
  {
   "cell_type": "code",
   "execution_count": 59,
   "metadata": {},
   "outputs": [],
   "source": [
    "#Predict the response for test dataset\n",
    "y_pred_train = clf.predict(x_train)\n",
    "y_pred_test = clf.predict(x_test)\n",
    "y_pred_gold = clf.predict(x_gold)\n"
   ]
  },
  {
   "cell_type": "code",
   "execution_count": 60,
   "metadata": {},
   "outputs": [
    {
     "name": "stdout",
     "output_type": "stream",
     "text": [
      "Train:               precision    recall  f1-score   support\n",
      "\n",
      "           0       0.90      0.96      0.93      5151\n",
      "           1       0.96      0.89      0.92      5174\n",
      "\n",
      "    accuracy                           0.93     10325\n",
      "   macro avg       0.93      0.93      0.93     10325\n",
      "weighted avg       0.93      0.93      0.93     10325\n",
      "\n",
      "Test:               precision    recall  f1-score   support\n",
      "\n",
      "           0       0.63      0.67      0.65      3118\n",
      "           1       0.65      0.61      0.63      3205\n",
      "\n",
      "    accuracy                           0.64      6323\n",
      "   macro avg       0.64      0.64      0.64      6323\n",
      "weighted avg       0.64      0.64      0.64      6323\n",
      "\n",
      "Gold:               precision    recall  f1-score   support\n",
      "\n",
      "           0       0.65      0.68      0.66      2268\n",
      "           1       0.64      0.61      0.63      2158\n",
      "\n",
      "    accuracy                           0.65      4426\n",
      "   macro avg       0.65      0.64      0.64      4426\n",
      "weighted avg       0.65      0.65      0.64      4426\n",
      "\n"
     ]
    }
   ],
   "source": [
    "print(\"Train:\", classification_report(y_train, y_pred_train))\n",
    "print(\"Test:\", classification_report(y_test, y_pred_test))\n",
    "print(\"Gold:\", classification_report(y_gold, y_pred_gold))"
   ]
  },
  {
   "cell_type": "markdown",
   "metadata": {},
   "source": [
    "## 4 - Modelagem Regressão Logística"
   ]
  },
  {
   "cell_type": "code",
   "execution_count": 62,
   "metadata": {},
   "outputs": [
    {
     "data": {
      "text/plain": [
       "LogisticRegression(C=1.0, class_weight=None, dual=False, fit_intercept=True,\n",
       "                   intercept_scaling=1, l1_ratio=None, max_iter=100,\n",
       "                   multi_class='auto', n_jobs=None, penalty='l2',\n",
       "                   random_state=None, solver='lbfgs', tol=0.0001, verbose=0,\n",
       "                   warm_start=False)"
      ]
     },
     "execution_count": 62,
     "metadata": {},
     "output_type": "execute_result"
    }
   ],
   "source": [
    "logreg = LogisticRegression()\n",
    "logreg.fit(x_train, y_train)"
   ]
  },
  {
   "cell_type": "code",
   "execution_count": 62,
   "metadata": {},
   "outputs": [],
   "source": [
    "y_pred_test = logreg.predict(x_test)\n",
    "y_pred_train = logreg.predict(x_train)\n",
    "y_pred_gold = logreg.predict(x_gold)"
   ]
  },
  {
   "cell_type": "code",
   "execution_count": 63,
   "metadata": {
    "scrolled": true
   },
   "outputs": [
    {
     "name": "stdout",
     "output_type": "stream",
     "text": [
      "Acurácia na Base de Treinamento: 0.792\n",
      "Acurácia na Base de Teste: 0.797\n"
     ]
    }
   ],
   "source": [
    "print(\"Acurácia na Base de Treinamento:\",metrics.accuracy_score(y_train, y_pred_train).round(3))\n",
    "print(\"Acurácia na Base de Teste:\",metrics.accuracy_score(y_test, y_pred_test).round(3))"
   ]
  },
  {
   "cell_type": "code",
   "execution_count": 63,
   "metadata": {
    "scrolled": true
   },
   "outputs": [
    {
     "name": "stdout",
     "output_type": "stream",
     "text": [
      "Train:               precision    recall  f1-score   support\n",
      "\n",
      "           0       0.90      0.96      0.93      5151\n",
      "           1       0.96      0.89      0.92      5174\n",
      "\n",
      "    accuracy                           0.93     10325\n",
      "   macro avg       0.93      0.93      0.93     10325\n",
      "weighted avg       0.93      0.93      0.93     10325\n",
      "\n",
      "Test:               precision    recall  f1-score   support\n",
      "\n",
      "           0       0.63      0.67      0.65      3118\n",
      "           1       0.65      0.61      0.63      3205\n",
      "\n",
      "    accuracy                           0.64      6323\n",
      "   macro avg       0.64      0.64      0.64      6323\n",
      "weighted avg       0.64      0.64      0.64      6323\n",
      "\n",
      "Gold:               precision    recall  f1-score   support\n",
      "\n",
      "           0       0.65      0.68      0.66      2268\n",
      "           1       0.64      0.61      0.63      2158\n",
      "\n",
      "    accuracy                           0.65      4426\n",
      "   macro avg       0.65      0.64      0.64      4426\n",
      "weighted avg       0.65      0.65      0.64      4426\n",
      "\n"
     ]
    }
   ],
   "source": [
    "print(\"Train:\", classification_report(y_train, y_pred_train))\n",
    "print(\"Test:\", classification_report(y_test, y_pred_test))\n",
    "print(\"Gold:\", classification_report(y_gold, y_pred_gold))"
   ]
  },
  {
   "cell_type": "code",
   "execution_count": 64,
   "metadata": {},
   "outputs": [
    {
     "data": {
      "text/plain": [
       "array([[4619,  555],\n",
       "       [ 213, 4938]])"
      ]
     },
     "execution_count": 64,
     "metadata": {},
     "output_type": "execute_result"
    }
   ],
   "source": [
    "cm_train = get_confusion_matrix(y_train, y_pred_train, labels=[1,0])\n",
    "cm_train"
   ]
  },
  {
   "cell_type": "code",
   "execution_count": 65,
   "metadata": {},
   "outputs": [
    {
     "data": {
      "text/plain": [
       "array([[1968, 1237],\n",
       "       [1043, 2075]])"
      ]
     },
     "execution_count": 65,
     "metadata": {},
     "output_type": "execute_result"
    }
   ],
   "source": [
    "cm_test = get_confusion_matrix(y_test, y_pred_test, labels=[1,0])\n",
    "cm_test"
   ]
  },
  {
   "cell_type": "code",
   "execution_count": 66,
   "metadata": {},
   "outputs": [
    {
     "data": {
      "text/plain": [
       "array([[1320,  838],\n",
       "       [ 732, 1536]])"
      ]
     },
     "execution_count": 66,
     "metadata": {},
     "output_type": "execute_result"
    }
   ],
   "source": [
    "cm_gold = get_confusion_matrix(y_gold, y_pred_gold, labels=[1,0])\n",
    "cm_gold"
   ]
  },
  {
   "cell_type": "markdown",
   "metadata": {},
   "source": [
    "## 5 - Modelagem - SVM"
   ]
  },
  {
   "cell_type": "code",
   "execution_count": 74,
   "metadata": {},
   "outputs": [],
   "source": [
    "train, test = train_test_split(df,\n",
    "                               test_size=0.3,\n",
    "                               random_state = 42) # 70% treinamento e 30% teste\n",
    "\n",
    "train, gold_standard = train_test_split(train,\n",
    "                               test_size=0.3,\n",
    "                               random_state = 42) # 70% treinamento e 30% teste"
   ]
  },
  {
   "cell_type": "code",
   "execution_count": 75,
   "metadata": {},
   "outputs": [
    {
     "data": {
      "text/plain": [
       "(24691, 34)"
      ]
     },
     "execution_count": 75,
     "metadata": {},
     "output_type": "execute_result"
    }
   ],
   "source": [
    "train.shape"
   ]
  },
  {
   "cell_type": "code",
   "execution_count": 76,
   "metadata": {},
   "outputs": [
    {
     "data": {
      "text/plain": [
       "(15117, 34)"
      ]
     },
     "execution_count": 76,
     "metadata": {},
     "output_type": "execute_result"
    }
   ],
   "source": [
    "test.shape"
   ]
  },
  {
   "cell_type": "code",
   "execution_count": 77,
   "metadata": {},
   "outputs": [
    {
     "data": {
      "text/plain": [
       "(10582, 34)"
      ]
     },
     "execution_count": 77,
     "metadata": {},
     "output_type": "execute_result"
    }
   ],
   "source": [
    "gold_standard.shape"
   ]
  },
  {
   "cell_type": "code",
   "execution_count": 78,
   "metadata": {},
   "outputs": [],
   "source": [
    "x_train = train[feature_list]\n",
    "y_train = train['PAGO']\n",
    "\n",
    "x_test = test[feature_list]\n",
    "y_test = test['PAGO']\n",
    "\n",
    "x_gold = gold_standard[feature_list]\n",
    "y_gold = gold_standard['PAGO']"
   ]
  },
  {
   "cell_type": "code",
   "execution_count": 79,
   "metadata": {},
   "outputs": [
    {
     "data": {
      "text/plain": [
       "(24691, 34)"
      ]
     },
     "execution_count": 79,
     "metadata": {},
     "output_type": "execute_result"
    }
   ],
   "source": [
    "train.shape"
   ]
  },
  {
   "cell_type": "markdown",
   "metadata": {},
   "source": [
    "kernel Linear"
   ]
  },
  {
   "cell_type": "code",
   "execution_count": null,
   "metadata": {},
   "outputs": [],
   "source": [
    "svclassifier = SVC(kernel='linear')\n",
    "svclassifier.fit(x_train, y_train)"
   ]
  },
  {
   "cell_type": "code",
   "execution_count": null,
   "metadata": {},
   "outputs": [],
   "source": [
    "y_pred_test = svclassifier.predict(x_test)\n",
    "y_pred_gold = svclassifier.predict(x_gold)"
   ]
  },
  {
   "cell_type": "code",
   "execution_count": null,
   "metadata": {},
   "outputs": [],
   "source": [
    "print(confusion_matrix(y_test,y_pred_test))\n",
    "print(classification_report(y_test,y_pred_test))\n",
    "\n",
    "print(confusion_matrix(y_gold,y_pred_gold))\n",
    "print(classification_report(y_gold,y_pred_gold))"
   ]
  },
  {
   "cell_type": "markdown",
   "metadata": {},
   "source": [
    "Kernel Polinomial"
   ]
  },
  {
   "cell_type": "code",
   "execution_count": null,
   "metadata": {},
   "outputs": [],
   "source": [
    "svclassifier = SVC(kernel='poly', degree=8)\n",
    "svclassifier.fit(x_train, y_train)"
   ]
  },
  {
   "cell_type": "code",
   "execution_count": null,
   "metadata": {},
   "outputs": [],
   "source": [
    "y_pred_test = svclassifier.predict(x_test)\n",
    "y_pred_gold = svclassifier.predict(x_gold)"
   ]
  },
  {
   "cell_type": "code",
   "execution_count": null,
   "metadata": {},
   "outputs": [],
   "source": [
    "print(confusion_matrix(y_test,y_pred_test))\n",
    "print(classification_report(y_test,y_pred_test))\n",
    "\n",
    "print(confusion_matrix(y_gold,y_pred_gold))\n",
    "print(classification_report(y_gold,y_pred_gold))"
   ]
  },
  {
   "cell_type": "markdown",
   "metadata": {},
   "source": [
    "Kernel Gaussiano"
   ]
  },
  {
   "cell_type": "code",
   "execution_count": null,
   "metadata": {},
   "outputs": [],
   "source": [
    "svclassifier = SVC(kernel='rbf')\n",
    "svclassifier.fit(x_train, y_train)"
   ]
  },
  {
   "cell_type": "code",
   "execution_count": null,
   "metadata": {},
   "outputs": [],
   "source": [
    "y_pred_test = svclassifier.predict(x_test)\n",
    "y_pred_gold = svclassifier.predict(x_gold)"
   ]
  },
  {
   "cell_type": "code",
   "execution_count": null,
   "metadata": {},
   "outputs": [],
   "source": [
    "print(confusion_matrix(y_test,y_pred_test))\n",
    "print(classification_report(y_test,y_pred_test))\n",
    "\n",
    "print(confusion_matrix(y_gold,y_pred_gold))\n",
    "print(classification_report(y_gold,y_pred_gold))"
   ]
  },
  {
   "cell_type": "code",
   "execution_count": null,
   "metadata": {},
   "outputs": [],
   "source": []
  }
 ],
 "metadata": {
  "kernelspec": {
   "display_name": "Python 3",
   "language": "python",
   "name": "python3"
  },
  "language_info": {
   "codemirror_mode": {
    "name": "ipython",
    "version": 3
   },
   "file_extension": ".py",
   "mimetype": "text/x-python",
   "name": "python",
   "nbconvert_exporter": "python",
   "pygments_lexer": "ipython3",
   "version": "3.7.4"
  },
  "toc": {
   "base_numbering": 1,
   "nav_menu": {},
   "number_sections": false,
   "sideBar": true,
   "skip_h1_title": false,
   "title_cell": "Table of Contents",
   "title_sidebar": "Contents",
   "toc_cell": false,
   "toc_position": {
    "height": "837.787px",
    "left": "0px",
    "top": "110.8px",
    "width": "242px"
   },
   "toc_section_display": true,
   "toc_window_display": true
  },
  "widgets": {
   "application/vnd.jupyter.widget-state+json": {
    "state": {},
    "version_major": 2,
    "version_minor": 0
   }
  }
 },
 "nbformat": 4,
 "nbformat_minor": 2
}
